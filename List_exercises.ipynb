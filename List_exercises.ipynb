{
 "cells": [
  {
   "cell_type": "code",
   "execution_count": 4,
   "metadata": {},
   "outputs": [
    {
     "data": {
      "text/plain": [
       "-47"
      ]
     },
     "execution_count": 4,
     "metadata": {},
     "output_type": "execute_result"
    }
   ],
   "source": [
    "'''1- Write a Python program to sum all the items in a list. '''\n",
    "def sum_items(items):\n",
    "    return sum(items)\n",
    "\n",
    "items = [-3,-23,-9,-12]\n",
    "sum_items(items)"
   ]
  },
  {
   "cell_type": "code",
   "execution_count": 10,
   "metadata": {},
   "outputs": [
    {
     "data": {
      "text/plain": [
       "9240"
      ]
     },
     "execution_count": 10,
     "metadata": {},
     "output_type": "execute_result"
    }
   ],
   "source": [
    "'''2- Write a Python program to multiplies all the items in a list.'''\n",
    "def mul_items(items):\n",
    "    mul = 1\n",
    "    for item in items:\n",
    "        mul *= item\n",
    "    return(mul)\n",
    "\n",
    "items = [-12,-22,-5,-7]\n",
    "mul_items(items)"
   ]
  },
  {
   "cell_type": "code",
   "execution_count": 13,
   "metadata": {},
   "outputs": [
    {
     "data": {
      "text/plain": [
       "8"
      ]
     },
     "execution_count": 13,
     "metadata": {},
     "output_type": "execute_result"
    }
   ],
   "source": [
    "'''3- Write a Python program to get the largest number from a list.'''\n",
    "def largest_item(items):\n",
    "    return(max(items))\n",
    "\n",
    "items = [2,4,5,8,3,0]\n",
    "largest_item(items)"
   ]
  },
  {
   "cell_type": "code",
   "execution_count": 14,
   "metadata": {},
   "outputs": [],
   "source": [
    "                             #OR"
   ]
  },
  {
   "cell_type": "code",
   "execution_count": 15,
   "metadata": {},
   "outputs": [
    {
     "data": {
      "text/plain": [
       "8"
      ]
     },
     "execution_count": 15,
     "metadata": {},
     "output_type": "execute_result"
    }
   ],
   "source": [
    "def largest_item(items):\n",
    "    largest = items[0]\n",
    "    for item in items:\n",
    "        if largest < item:\n",
    "            largest = item\n",
    "    return largest\n",
    "\n",
    "items = [2,4,5,8,3,0]\n",
    "largest_item(items)"
   ]
  },
  {
   "cell_type": "code",
   "execution_count": 16,
   "metadata": {},
   "outputs": [
    {
     "data": {
      "text/plain": [
       "0"
      ]
     },
     "execution_count": 16,
     "metadata": {},
     "output_type": "execute_result"
    }
   ],
   "source": [
    "'''4- Write a Python program to get the smallest number from a list'''\n",
    "def smallest_item(items):\n",
    "    return(min(items))\n",
    "\n",
    "items = [2,4,5,8,3,0]\n",
    "smallest_item(items)"
   ]
  },
  {
   "cell_type": "code",
   "execution_count": 17,
   "metadata": {},
   "outputs": [],
   "source": [
    "                                  # OR"
   ]
  },
  {
   "cell_type": "code",
   "execution_count": 19,
   "metadata": {},
   "outputs": [
    {
     "data": {
      "text/plain": [
       "0"
      ]
     },
     "execution_count": 19,
     "metadata": {},
     "output_type": "execute_result"
    }
   ],
   "source": [
    "def smallest_item(items):\n",
    "    smallest = items[0]\n",
    "    for item in items:\n",
    "        if smallest > item:\n",
    "            smallest = item\n",
    "    return smallest\n",
    "\n",
    "items = [2,4,5,8,3,0]\n",
    "smallest_item(items)"
   ]
  },
  {
   "cell_type": "code",
   "execution_count": 23,
   "metadata": {},
   "outputs": [
    {
     "name": "stdout",
     "output_type": "stream",
     "text": [
      "['aba', '1221']\n",
      "No of selected_words: 2\n"
     ]
    }
   ],
   "source": [
    "'''5- Write a Python program to count the number of strings where\n",
    "    the string length is 2 or more and the first and last character\n",
    "    are samefrom a given list of strings.'''\n",
    "def give_str(words):\n",
    "    selected_words = []\n",
    "    for word in words:\n",
    "        if len(word) > 2 and word[0] == word[-1]:\n",
    "            selected_words.append(word)\n",
    "    return selected_words\n",
    "\n",
    "words = ['abc','xyz','aba','1221']\n",
    "print(give_str(words))\n",
    "print(\"No of selected_words: \"+str(len(give_str(words))))\n"
   ]
  },
  {
   "cell_type": "code",
   "execution_count": 65,
   "metadata": {},
   "outputs": [
    {
     "ename": "TypeError",
     "evalue": "'tuple' object is not callable",
     "output_type": "error",
     "traceback": [
      "\u001b[1;31m---------------------------------------------------------------------------\u001b[0m",
      "\u001b[1;31mTypeError\u001b[0m                                 Traceback (most recent call last)",
      "\u001b[1;32m<ipython-input-65-a6689a8f331f>\u001b[0m in \u001b[0;36m<module>\u001b[1;34m()\u001b[0m\n\u001b[0;32m      5\u001b[0m \u001b[1;33m\u001b[0m\u001b[0m\n\u001b[0;32m      6\u001b[0m \u001b[0mtuple_list\u001b[0m \u001b[1;33m=\u001b[0m \u001b[1;33m[\u001b[0m\u001b[1;33m(\u001b[0m\u001b[1;36m2\u001b[0m\u001b[1;33m,\u001b[0m\u001b[1;36m5\u001b[0m\u001b[1;33m)\u001b[0m\u001b[1;33m,\u001b[0m\u001b[1;33m(\u001b[0m\u001b[1;36m1\u001b[0m\u001b[1;33m,\u001b[0m\u001b[1;36m2\u001b[0m\u001b[1;33m)\u001b[0m\u001b[1;33m,\u001b[0m\u001b[1;33m(\u001b[0m\u001b[1;36m4\u001b[0m\u001b[1;33m,\u001b[0m\u001b[1;36m4\u001b[0m\u001b[1;33m)\u001b[0m\u001b[1;33m,\u001b[0m\u001b[1;33m(\u001b[0m\u001b[1;36m2\u001b[0m\u001b[1;33m,\u001b[0m\u001b[1;36m3\u001b[0m\u001b[1;33m)\u001b[0m\u001b[1;33m,\u001b[0m \u001b[1;33m(\u001b[0m\u001b[1;36m2\u001b[0m\u001b[1;33m,\u001b[0m\u001b[1;36m1\u001b[0m\u001b[1;33m)\u001b[0m\u001b[1;33m]\u001b[0m\u001b[1;33m\u001b[0m\u001b[0m\n\u001b[1;32m----> 7\u001b[1;33m \u001b[0msorted_tuple_list\u001b[0m\u001b[1;33m(\u001b[0m\u001b[0mtuple_list\u001b[0m\u001b[1;33m)\u001b[0m\u001b[1;33m\u001b[0m\u001b[0m\n\u001b[0m",
      "\u001b[1;32m<ipython-input-65-a6689a8f331f>\u001b[0m in \u001b[0;36msorted_tuple_list\u001b[1;34m(tuple_list)\u001b[0m\n\u001b[0;32m      2\u001b[0m       last element in each tuple from a given list of non-empty tuples.'''\n\u001b[0;32m      3\u001b[0m \u001b[1;32mdef\u001b[0m \u001b[0msorted_tuple_list\u001b[0m\u001b[1;33m(\u001b[0m\u001b[0mtuple_list\u001b[0m\u001b[1;33m)\u001b[0m\u001b[1;33m:\u001b[0m\u001b[1;33m\u001b[0m\u001b[0m\n\u001b[1;32m----> 4\u001b[1;33m     \u001b[1;32mreturn\u001b[0m \u001b[0msorted\u001b[0m\u001b[1;33m(\u001b[0m\u001b[0mtuple_list\u001b[0m\u001b[1;33m,\u001b[0m \u001b[0mkey\u001b[0m\u001b[1;33m=\u001b[0m\u001b[0mtuple_list\u001b[0m\u001b[1;33m[\u001b[0m\u001b[1;33m-\u001b[0m\u001b[1;36m1\u001b[0m\u001b[1;33m]\u001b[0m\u001b[1;33m)\u001b[0m\u001b[1;33m\u001b[0m\u001b[0m\n\u001b[0m\u001b[0;32m      5\u001b[0m \u001b[1;33m\u001b[0m\u001b[0m\n\u001b[0;32m      6\u001b[0m \u001b[0mtuple_list\u001b[0m \u001b[1;33m=\u001b[0m \u001b[1;33m[\u001b[0m\u001b[1;33m(\u001b[0m\u001b[1;36m2\u001b[0m\u001b[1;33m,\u001b[0m\u001b[1;36m5\u001b[0m\u001b[1;33m)\u001b[0m\u001b[1;33m,\u001b[0m\u001b[1;33m(\u001b[0m\u001b[1;36m1\u001b[0m\u001b[1;33m,\u001b[0m\u001b[1;36m2\u001b[0m\u001b[1;33m)\u001b[0m\u001b[1;33m,\u001b[0m\u001b[1;33m(\u001b[0m\u001b[1;36m4\u001b[0m\u001b[1;33m,\u001b[0m\u001b[1;36m4\u001b[0m\u001b[1;33m)\u001b[0m\u001b[1;33m,\u001b[0m\u001b[1;33m(\u001b[0m\u001b[1;36m2\u001b[0m\u001b[1;33m,\u001b[0m\u001b[1;36m3\u001b[0m\u001b[1;33m)\u001b[0m\u001b[1;33m,\u001b[0m \u001b[1;33m(\u001b[0m\u001b[1;36m2\u001b[0m\u001b[1;33m,\u001b[0m\u001b[1;36m1\u001b[0m\u001b[1;33m)\u001b[0m\u001b[1;33m]\u001b[0m\u001b[1;33m\u001b[0m\u001b[0m\n",
      "\u001b[1;31mTypeError\u001b[0m: 'tuple' object is not callable"
     ]
    }
   ],
   "source": [
    "'''6- Write a Python program to get a list, sorted in increasing order by the \n",
    "      last element in each tuple from a given list of non-empty tuples.'''\n",
    "def sorted_tuple_list(tuple_list):\n",
    "    return sorted(tuple_list, key=tuple_list[-1])\n",
    "\n",
    "tuple_list = [(2,5),(1,2),(4,4),(2,3), (2,1)]\n",
    "sorted_tuple_list(tuple_list)\n",
    " # incomplete baad me karna h"
   ]
  },
  {
   "cell_type": "code",
   "execution_count": 42,
   "metadata": {},
   "outputs": [
    {
     "data": {
      "text/plain": [
       "[37, 34, 10, 9, 8, 4, 2, 2, 1, 1]"
      ]
     },
     "execution_count": 42,
     "metadata": {},
     "output_type": "execute_result"
    }
   ],
   "source": [
    "'''Sorting program'''\n",
    "n = [9,2,8,1,10,34,1,4,37,2]\n",
    "for i in range(0, len(n)):\n",
    "    for j in range(i+1, len(n)):\n",
    "        if n[i] < n[j]:\n",
    "            temp = n[i]\n",
    "            n[i] = n[j]\n",
    "            n[j] = temp\n",
    "n   "
   ]
  },
  {
   "cell_type": "code",
   "execution_count": 1,
   "metadata": {},
   "outputs": [
    {
     "data": {
      "text/plain": [
       "{1, 2, 3, 4, 5, 6, 7}"
      ]
     },
     "execution_count": 1,
     "metadata": {},
     "output_type": "execute_result"
    }
   ],
   "source": [
    "'''7. Write a Python program to remove duplicates from a list.'''\n",
    "n = [1,2,3,4,5,2,6,7,2]\n",
    "without_duplicate_n = set(n)  \n",
    "without_duplicate_n"
   ]
  },
  {
   "cell_type": "code",
   "execution_count": 2,
   "metadata": {},
   "outputs": [
    {
     "name": "stdout",
     "output_type": "stream",
     "text": [
      "List is not empty\n"
     ]
    }
   ],
   "source": [
    "'''8. Write a Python program to check a list is empty or not.'''\n",
    "n = [1,2,3,4,5,2,6,7,2]\n",
    "if n:\n",
    "    print('List is not empty')\n",
    "else:\n",
    "    print('List is empty')"
   ]
  },
  {
   "cell_type": "code",
   "execution_count": 4,
   "metadata": {},
   "outputs": [
    {
     "data": {
      "text/plain": [
       "[1, 2, 3, 4, 5, 2, 6, 7, 2]"
      ]
     },
     "execution_count": 4,
     "metadata": {},
     "output_type": "execute_result"
    }
   ],
   "source": [
    "'''9. Write a Python program to clone or copy a list.'''\n",
    "n = [1,2,3,4,5,2,6,7,2]\n",
    "nn = n[:]\n",
    "nn"
   ]
  },
  {
   "cell_type": "code",
   "execution_count": 5,
   "metadata": {},
   "outputs": [
    {
     "data": {
      "text/plain": [
       "[1, 2, 3, 4, 5, 2, 6, 7, 2]"
      ]
     },
     "execution_count": 5,
     "metadata": {},
     "output_type": "execute_result"
    }
   ],
   "source": [
    "n"
   ]
  },
  {
   "cell_type": "code",
   "execution_count": 11,
   "metadata": {},
   "outputs": [
    {
     "name": "stdout",
     "output_type": "stream",
     "text": [
      "Enter a sentence: The quick brown fox jumps over the lazy dog\n",
      "Enter a no: 5\n"
     ]
    },
    {
     "data": {
      "text/plain": [
       "[]"
      ]
     },
     "execution_count": 11,
     "metadata": {},
     "output_type": "execute_result"
    }
   ],
   "source": [
    "'''10. Write a Python program to find the list of words that are longer\n",
    "   than n from a given list of words.'''\n",
    "def give_words(sentence, num):\n",
    "    words_greaterthan_n = []\n",
    "    words = sentence.split()\n",
    "    for word in words:\n",
    "        if len(word) > num:\n",
    "            words_greaterthan_n.append(word)\n",
    "    return words_greaterthan_n\n",
    "    \n",
    "    \n",
    "\n",
    "sentence = input(\"Enter a sentence: \")\n",
    "num = int(input(\"Enter a no: \"))\n",
    "give_words(sentence, num)"
   ]
  },
  {
   "cell_type": "code",
   "execution_count": 15,
   "metadata": {},
   "outputs": [
    {
     "data": {
      "text/plain": [
       "True"
      ]
     },
     "execution_count": 15,
     "metadata": {},
     "output_type": "execute_result"
    }
   ],
   "source": [
    "'''11. Write a Python function that takes two lists and returns True if they have\n",
    "       at least one common member.'''\n",
    "\n",
    "def check_common_member(list_1, list_2):\n",
    "    common = False\n",
    "    for i in list_1:\n",
    "        if i in list_2:\n",
    "            common = True\n",
    "            break\n",
    "    return common\n",
    "\n",
    "list_1 = [1,2,3,4,5]\n",
    "list_2 = [5,6,7,8,9]\n",
    "check_common_member(list_1, list_2)"
   ]
  },
  {
   "cell_type": "code",
   "execution_count": 7,
   "metadata": {},
   "outputs": [
    {
     "name": "stdout",
     "output_type": "stream",
     "text": [
      "Before removing evens\n",
      "[24, 77, 62, 33, 12, 11, 78, 99, 90]\n",
      "After removing evens\n"
     ]
    },
    {
     "data": {
      "text/plain": [
       "[77, 33, 11, 99]"
      ]
     },
     "execution_count": 7,
     "metadata": {},
     "output_type": "execute_result"
    }
   ],
   "source": [
    "'''12- Write a Python program to print the numbers of a specified list after\n",
    "       removing even numbers from it.'''\n",
    "\n",
    "no_list = [24,77,62,33,12,11,78,99,90]\n",
    "print(\"Before removing evens\\n\"+str(no_list))\n",
    "no_list= [i for i in no_list if i % 2!= 0]\n",
    "print(\"After removing evens\")\n",
    "no_list"
   ]
  },
  {
   "cell_type": "code",
   "execution_count": 32,
   "metadata": {},
   "outputs": [
    {
     "data": {
      "text/plain": [
       "[1, 4, 9, 16, 25, 676, 729, 784, 841, 900]"
      ]
     },
     "execution_count": 32,
     "metadata": {},
     "output_type": "execute_result"
    }
   ],
   "source": [
    "'''13. Write a Python program to generate and print a list of first and last 5\n",
    "       elements where the values are squareof numbers between 1 and 30\n",
    "       (both included).'''\n",
    "nums = [i**2 for i in range(1, 31)]\n",
    "first_5_elements = nums[:5]\n",
    "last_5_elements = nums[-1:-6:-1]\n",
    "last_5_elements.reverse()\n",
    "first_and_last_5_elements = first_5_elements + last_5_elements\n",
    "first_and_last_5_elements"
   ]
  },
  {
   "cell_type": "code",
   "execution_count": 33,
   "metadata": {},
   "outputs": [
    {
     "data": {
      "text/plain": [
       "[36,\n",
       " 49,\n",
       " 64,\n",
       " 81,\n",
       " 100,\n",
       " 121,\n",
       " 144,\n",
       " 169,\n",
       " 196,\n",
       " 225,\n",
       " 256,\n",
       " 289,\n",
       " 324,\n",
       " 361,\n",
       " 400,\n",
       " 441,\n",
       " 484,\n",
       " 529,\n",
       " 576,\n",
       " 625,\n",
       " 676,\n",
       " 729,\n",
       " 784,\n",
       " 841,\n",
       " 900]"
      ]
     },
     "execution_count": 33,
     "metadata": {},
     "output_type": "execute_result"
    }
   ],
   "source": [
    "'''14- Write a Python program to generate and print a list except for the first 5\n",
    "   elements, where the values are square of numbers between 1 and 30 \n",
    "   (both included).'''\n",
    "nums = [i**2 for i in range(1, 31)]\n",
    "list_except_1st_5_elements  = nums[5:]\n",
    "list_except_1st_5_elements"
   ]
  },
  {
   "cell_type": "code",
   "execution_count": 40,
   "metadata": {},
   "outputs": [
    {
     "data": {
      "text/plain": [
       "[5, 4, 3, 2, 1]"
      ]
     },
     "execution_count": 40,
     "metadata": {},
     "output_type": "execute_result"
    }
   ],
   "source": [
    "'''15- Write a Python program to get the difference between the two lists.'''\n",
    "list_1 = [6,7,8,9,10]\n",
    "list_2 = [1,3,5,7,9]\n",
    "difference = []\n",
    "for i in range(0 ,len(list_1)):\n",
    "    difference.append(list_1[i] - list_2[i])\n",
    "    \n",
    "difference"
   ]
  },
  {
   "cell_type": "code",
   "execution_count": 43,
   "metadata": {},
   "outputs": [
    {
     "data": {
      "text/plain": [
       "'I am abdul saboor'"
      ]
     },
     "execution_count": 43,
     "metadata": {},
     "output_type": "execute_result"
    }
   ],
   "source": [
    "'''16- Write a Python program to convert a list of characters into a string.'''\n",
    "list_of_chars  = ['I',' ','a','m',' ','a','b','d','u','l',' ','s','a','b','o','o','r']\n",
    "s = ''\n",
    "for i in list_of_chars:\n",
    "    s+= i\n",
    "s"
   ]
  },
  {
   "cell_type": "code",
   "execution_count": 47,
   "metadata": {},
   "outputs": [
    {
     "name": "stdout",
     "output_type": "stream",
     "text": [
      "4\n"
     ]
    }
   ],
   "source": [
    "'''17- Write a Python program to find the index of an item in a specified list.'''\n",
    "nums = [10,20,30,40,50,60,70,80,90]\n",
    "index = 0\n",
    "for i in range(0, len(nums)):\n",
    "    if nums[i] == 50:\n",
    "        index = i\n",
    "        \n",
    "print(index)"
   ]
  },
  {
   "cell_type": "code",
   "execution_count": 48,
   "metadata": {},
   "outputs": [
    {
     "data": {
      "text/plain": [
       "[1, 2, 3, 4, 5, 6, 7, 8, 9, 10]"
      ]
     },
     "execution_count": 48,
     "metadata": {},
     "output_type": "execute_result"
    }
   ],
   "source": [
    "'''Write a Python program to append a list to the second list.'''\n",
    "list_1 = [1,2,3,4,5]\n",
    "list_2 = [6,7,8,9,10]\n",
    "append_both_list = list_1 + list_2\n",
    "append_both_list"
   ]
  },
  {
   "cell_type": "code",
   "execution_count": 2,
   "metadata": {},
   "outputs": [
    {
     "name": "stdout",
     "output_type": "stream",
     "text": [
      "3\n"
     ]
    }
   ],
   "source": [
    "'''Write a Python program to find the second smallest number in a list.'''\n",
    "nums = [9,10,3,1,4,8,5]\n",
    "nums.sort()\n",
    "print(nums[1])"
   ]
  },
  {
   "cell_type": "code",
   "execution_count": 71,
   "metadata": {},
   "outputs": [
    {
     "name": "stdout",
     "output_type": "stream",
     "text": [
      "No\n"
     ]
    }
   ],
   "source": [
    "'''18- Write a Python program to check whether a list contains a sublist.'''\n",
    "nums = [1,2,3,4,5,6,7,8,9]\n",
    "sublist = [1,2,3]\n",
    "if sublist in nums:\n",
    "    print(\"Yes\")\n",
    "else:\n",
    "    print(\"No\")\n",
    "    # dekhna h isko bhi"
   ]
  },
  {
   "cell_type": "code",
   "execution_count": 86,
   "metadata": {},
   "outputs": [
    {
     "name": "stdout",
     "output_type": "stream",
     "text": [
      "Enter range:  5\n"
     ]
    },
    {
     "data": {
      "text/plain": [
       "['p1', 'q1', 'p2', 'q2', 'p3', 'q3', 'p4', 'q4', 'p5', 'q5']"
      ]
     },
     "execution_count": 86,
     "metadata": {},
     "output_type": "execute_result"
    }
   ],
   "source": [
    "'''19- Write a Python program to create a list by concatenating a given list which\n",
    "range goes from 1 to n.\n",
    "i.e Sample list : ['p', 'q']\n",
    "n =5\n",
    "Sample Output : ['p1', 'q1', 'p2', 'q2', 'p3', 'q3', 'p4', 'q4', 'p5', 'q5']'''\n",
    "sample_list = ['p','q']\n",
    "n = int(input(\"Enter range:  \"))\n",
    "making_list  =[j+str(i) for i in range(1, n+1)  for j in sample_list] \n",
    "making_list"
   ]
  },
  {
   "cell_type": "code",
   "execution_count": 1,
   "metadata": {},
   "outputs": [
    {
     "data": {
      "text/plain": [
       "[2, 5, 9]"
      ]
     },
     "execution_count": 1,
     "metadata": {},
     "output_type": "execute_result"
    }
   ],
   "source": [
    "'''20- Write a Python program to find common items from two lists. '''\n",
    "list_1 = [3,2,8,5,9]\n",
    "list_2 = [1,5,2,9,7]\n",
    "common_items = [i for i in list_1 if i in list_2]\n",
    "common_items"
   ]
  },
  {
   "cell_type": "code",
   "execution_count": 6,
   "metadata": {},
   "outputs": [
    {
     "data": {
      "text/plain": [
       "[1, 0, 3, 2, 5, 4]"
      ]
     },
     "execution_count": 6,
     "metadata": {},
     "output_type": "execute_result"
    }
   ],
   "source": [
    "'''21- Write a Python program to change the position of every n-th value with the\n",
    "    (n+1)th in a list.'''\n",
    "list_num = [0,1,2,3,4,5]\n",
    "for i in range(0, len(list_num)):\n",
    "    if i % 2 == 0:\n",
    "        temp = list_num[i]\n",
    "        list_num[i] = list_num[i+1]\n",
    "        list_num[i+1] = temp\n",
    "        \n",
    "\n",
    "list_num\n",
    "# Note: This logic is only valid if list have even no of items"
   ]
  },
  {
   "cell_type": "code",
   "execution_count": 8,
   "metadata": {},
   "outputs": [
    {
     "data": {
      "text/plain": [
       "'112233'"
      ]
     },
     "execution_count": 8,
     "metadata": {},
     "output_type": "execute_result"
    }
   ],
   "source": [
    "'''22- Write a Python program to convert a list of multiple integers\n",
    "   into a single integer.'''\n",
    "list_num = [11,22,33]\n",
    "s = ''\n",
    "for i in list_num:\n",
    "    s+= str(i)\n",
    "s"
   ]
  },
  {
   "cell_type": "code",
   "execution_count": 36,
   "metadata": {},
   "outputs": [
    {
     "name": "stdout",
     "output_type": "stream",
     "text": [
      "['abdul', 'am', 'and', 'i', 'is', 'khan', 'rahima', 'saboor', 'she']\n",
      "a\n",
      "b\n",
      "a\n",
      "a\n",
      "n\n",
      "i\n",
      "i\n",
      "s\n",
      "k\n",
      "r\n",
      "s\n",
      "s\n",
      "h\n"
     ]
    },
    {
     "data": {
      "text/plain": [
       "' b  abdul  a  am  n  and  i  i  s  is  k  khan  r  rahima  s  saboor  h  she '"
      ]
     },
     "execution_count": 36,
     "metadata": {},
     "output_type": "execute_result"
    }
   ],
   "source": [
    "'''23- Write a Python program to split a list based on first character of word.'''\n",
    "sentence = \"i am abdul saboor and she is rahima khan\"\n",
    "words = sentence.split()\n",
    "words.sort()\n",
    "print(words)\n",
    "s = ''\n",
    "first_char = words[0][0]\n",
    "for i in sorted(words):\n",
    "    for j in i:\n",
    "        print(j[0])\n",
    "        if j[0] != first_char:\n",
    "            first_char = j[0]\n",
    "            s+=\" \"+first_char+\" \"\n",
    "            break\n",
    "    s+=\" \"+i+\" \"\n",
    "#  isko bhi likh likhakar karna h"
   ]
  },
  {
   "cell_type": "code",
   "execution_count": 37,
   "metadata": {},
   "outputs": [
    {
     "name": "stdout",
     "output_type": "stream",
     "text": [
      "{'1': [], '2': [], '3': [], '4': [], '5': [], '6': [], '7': [], '8': [], '9': [], '10': [], '11': [], '12': [], '13': [], '14': [], '15': [], '16': [], '17': [], '18': [], '19': [], '20': []}\n"
     ]
    }
   ],
   "source": [
    "'''24- Write a Python program to create multiple lists.'''\n",
    "obj = {}\n",
    "for i in range(1, 21):\n",
    "    obj[str(i)] = []\n",
    "print(obj)"
   ]
  },
  {
   "cell_type": "code",
   "execution_count": 41,
   "metadata": {},
   "outputs": [
    {
     "name": "stdout",
     "output_type": "stream",
     "text": [
      "Missing values in list 2: ['a', 'b', 'c']\n",
      "Additional values in list 2: ['g', 'h']\n"
     ]
    }
   ],
   "source": [
    "'''25- Write a Python program to find missing and additional values in two lists.'''\n",
    "list_1 = ['a','b','c','d','e','f']\n",
    "list_2 = ['d','e','f','g','h']\n",
    "missing_values_in_list_2 = [i for i in list_1 if i not in list_2]\n",
    "additional_values_in_list_2 = [i for i in list_2 if i not in list_1]\n",
    "print(\"Missing values in list 2: \"+str(missing_values_in_list_2))\n",
    "print(\"Additional values in list 2: \"+str(additional_values_in_list_2))"
   ]
  },
  {
   "cell_type": "code",
   "execution_count": 41,
   "metadata": {},
   "outputs": [
    {
     "data": {
      "text/plain": [
       "'black-green-red-white-yellow'"
      ]
     },
     "execution_count": 41,
     "metadata": {},
     "output_type": "execute_result"
    }
   ],
   "source": [
    "'''26- Write a Python program that accepts a hyphen-separated sequence of words as\n",
    "input and prints the words in a hyphen-separated sequence after sorting them\n",
    "alphabetically.'''\n",
    "input_value = \"green-red-yellow-black-white\"\n",
    "colors = input_value.split(\"-\")\n",
    "colors.sort()\n",
    "s = ''\n",
    "for i in colors:\n",
    "    s+= i+\"-\"\n",
    "    \n",
    "letters = list(s)\n",
    "del(letters[-1])\n",
    "s = ''\n",
    "for i in letters:\n",
    "    s+= i\n",
    "s"
   ]
  },
  {
   "cell_type": "code",
   "execution_count": 78,
   "metadata": {},
   "outputs": [
    {
     "name": "stdout",
     "output_type": "stream",
     "text": [
      "Enter an string: saboor\n",
      "not a palindrome\n"
     ]
    }
   ],
   "source": [
    "'''27- Write a Python function to check whether a string is a palindrome or not.'''\n",
    "string = input(\"Enter an string: \")\n",
    "reverse = ''\n",
    "for i in range(len(string)-1, -1, -1):\n",
    "    reverse+= string[i]\n",
    "if string == reverse:\n",
    "    print(\"Palindrome\")\n",
    "else:\n",
    "    print(\"not a palindrome\")\n"
   ]
  },
  {
   "cell_type": "code",
   "execution_count": 92,
   "metadata": {},
   "outputs": [
    {
     "name": "stdout",
     "output_type": "stream",
     "text": [
      "{'j', 'l', 'b', 'x', 'p', 'n', 'q', 'y', 's', 'd', 'o', 'v', 'a', 't', 'u', ' ', 'i', 'm', 'f', 'h', 'c', 'w', 'g', 'k', 'r', 'z', 'e'}\n",
      "Pangram\n"
     ]
    }
   ],
   "source": [
    "'''28- Write a Python function to check whether a string is a pangram or not.'''\n",
    "alphabets = list(\"abcdefghigklmnopqrstuvwxyz\")\n",
    "alphabets\n",
    "sentence = \"the quick brown fox jumps over the lazy dog\"\n",
    "letters = set(sentence)\n",
    "result = True\n",
    "for i in alphabets:\n",
    "    if i not in letters:\n",
    "        result = False\n",
    "        break\n",
    "if result:\n",
    "    print(\"Pangram\")\n",
    "else:\n",
    "    print(\"not a pangram\")"
   ]
  },
  {
   "cell_type": "code",
   "execution_count": 95,
   "metadata": {},
   "outputs": [
    {
     "data": {
      "text/plain": [
       "[1, 2, 3, 4, 5]"
      ]
     },
     "execution_count": 95,
     "metadata": {},
     "output_type": "execute_result"
    }
   ],
   "source": [
    "'''29- Write a Python function that takes a list and returns a new list with unique\n",
    "    elements of the first list.'''\n",
    "num_list = [1,2,2,2,3,3,4,4,4,4,5,5,5,5,5]\n",
    "set(num_list) # is se set ban raha h list nahei ban rahi\n",
    "'''for making list'''\n",
    "unique_elements = []\n",
    "for i in num_list:\n",
    "    if i not in unique_elements:\n",
    "        unique_elements.append(i)\n",
    "unique_elements"
   ]
  },
  {
   "cell_type": "code",
   "execution_count": 10,
   "metadata": {},
   "outputs": [
    {
     "data": {
      "text/plain": [
       "array([[-10,   2,   8],\n",
       "       [ -7,  -3,  10]])"
      ]
     },
     "execution_count": 10,
     "metadata": {},
     "output_type": "execute_result"
    }
   ],
   "source": [
    "'''30. Write a Python program to find the three elements that sum to zero\n",
    "   from a set of n real numbers.'''\n",
    "\n",
    "nums = [-25, -10, -7, -3, 2, 4, 8, 10]\n",
    "sets = []\n",
    "complete_set = []\n",
    "for i in range(0, len(nums)):\n",
    "    for j in range(i+1, len(nums)-1):\n",
    "        for k in range(j+1, len(nums)):\n",
    "            if nums[i] + nums[j] + nums[k] == 0:\n",
    "                sets.append(nums[i])\n",
    "                sets.append(nums[j])\n",
    "                sets.append(nums[k])\n",
    "import numpy as np\n",
    "sets = np.array(sets).reshape(2,3)\n",
    "sets"
   ]
  },
  {
   "cell_type": "code",
   "execution_count": 9,
   "metadata": {},
   "outputs": [
    {
     "data": {
      "text/plain": [
       "array([[0, 3],\n",
       "       [2, 3]])"
      ]
     },
     "execution_count": 9,
     "metadata": {},
     "output_type": "execute_result"
    }
   ],
   "source": [
    "'''31. Write a Python program to find a pair of elements (indices of the two numbers)\n",
    "from a given array whose sum equals a specific target number.\n",
    "Input: numbers= [10,20,10,40,50,60,70], target=50\n",
    "Output: 3, 4'''\n",
    "\n",
    "numbers= [10,20,10,40,50,60,70]\n",
    "pair_indices = []\n",
    "for i in range(0, len(numbers)-1):\n",
    "    for j in range(i+1, len(numbers)):\n",
    "        if numbers[i] + numbers[j] == 50:\n",
    "            pair_indices.append(i)\n",
    "            pair_indices.append(j)\n",
    "            \n",
    "import numpy as np\n",
    "pair_indices = np.array(pair_indices).reshape(2,2)\n",
    "pair_indices"
   ]
  },
  {
   "cell_type": "code",
   "execution_count": null,
   "metadata": {},
   "outputs": [],
   "source": []
  }
 ],
 "metadata": {
  "kernelspec": {
   "display_name": "Python 3",
   "language": "python",
   "name": "python3"
  },
  "language_info": {
   "codemirror_mode": {
    "name": "ipython",
    "version": 3
   },
   "file_extension": ".py",
   "mimetype": "text/x-python",
   "name": "python",
   "nbconvert_exporter": "python",
   "pygments_lexer": "ipython3",
   "version": "3.6.5"
  }
 },
 "nbformat": 4,
 "nbformat_minor": 2
}
